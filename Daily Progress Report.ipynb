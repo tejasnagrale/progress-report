{
 "cells": [
  {
   "cell_type": "markdown",
   "metadata": {},
   "source": [
    "# Find out daily progress from a public platform"
   ]
  },
  {
   "cell_type": "markdown",
   "metadata": {},
   "source": [
    "# Day 1"
   ]
  },
  {
   "cell_type": "code",
   "execution_count": 11,
   "metadata": {},
   "outputs": [],
   "source": [
    "#import Data from website"
   ]
  },
  {
   "cell_type": "code",
   "execution_count": 85,
   "metadata": {},
   "outputs": [],
   "source": [
    "import pandas as pd\n",
    "import datetime\n",
    "import numpy as np\n",
    "from selenium import webdriver\n",
    "from selenium.webdriver.common.keys import Keys\n",
    "driver=webdriver.Chrome(r\"C:\\Users\\lenovo\\Downloads\\Chrome gecko folder\\chromedriver.exe\")\n",
    "driver.get(\"http://omms.nic.in/\")"
   ]
  },
  {
   "cell_type": "code",
   "execution_count": 86,
   "metadata": {},
   "outputs": [],
   "source": [
    "dfs = pd.read_html(driver.page_source)"
   ]
  },
  {
   "cell_type": "code",
   "execution_count": 87,
   "metadata": {},
   "outputs": [
    {
     "data": {
      "text/html": [
       "<div>\n",
       "<style scoped>\n",
       "    .dataframe tbody tr th:only-of-type {\n",
       "        vertical-align: middle;\n",
       "    }\n",
       "\n",
       "    .dataframe tbody tr th {\n",
       "        vertical-align: top;\n",
       "    }\n",
       "\n",
       "    .dataframe thead th {\n",
       "        text-align: right;\n",
       "    }\n",
       "</style>\n",
       "<table border=\"1\" class=\"dataframe\">\n",
       "  <thead>\n",
       "    <tr style=\"text-align: right;\">\n",
       "      <th></th>\n",
       "      <th>State</th>\n",
       "      <th>Target Length</th>\n",
       "      <th>Completed Length</th>\n",
       "      <th>Target Habitations</th>\n",
       "      <th>Connected Habitations</th>\n",
       "    </tr>\n",
       "  </thead>\n",
       "  <tbody>\n",
       "    <tr>\n",
       "      <td>27</td>\n",
       "      <td>Uttarakhand</td>\n",
       "      <td>5425.0</td>\n",
       "      <td>1810.239</td>\n",
       "      <td>300</td>\n",
       "      <td>83</td>\n",
       "    </tr>\n",
       "    <tr>\n",
       "      <td>28</td>\n",
       "      <td>West Bengal</td>\n",
       "      <td>3000.0</td>\n",
       "      <td>1404.983</td>\n",
       "      <td>95</td>\n",
       "      <td>32</td>\n",
       "    </tr>\n",
       "    <tr>\n",
       "      <td>29</td>\n",
       "      <td>Telangana</td>\n",
       "      <td>800.0</td>\n",
       "      <td>127.274</td>\n",
       "      <td>29</td>\n",
       "      <td>18</td>\n",
       "    </tr>\n",
       "    <tr>\n",
       "      <td>30</td>\n",
       "      <td>Ladakh (UT)</td>\n",
       "      <td>413.0</td>\n",
       "      <td>85.230</td>\n",
       "      <td>0</td>\n",
       "      <td>0</td>\n",
       "    </tr>\n",
       "    <tr>\n",
       "      <td>31</td>\n",
       "      <td>Total</td>\n",
       "      <td>66784.0</td>\n",
       "      <td>18616.452</td>\n",
       "      <td>5108</td>\n",
       "      <td>1341</td>\n",
       "    </tr>\n",
       "  </tbody>\n",
       "</table>\n",
       "</div>"
      ],
      "text/plain": [
       "          State  Target Length  Completed Length  Target Habitations  \\\n",
       "27  Uttarakhand         5425.0          1810.239                 300   \n",
       "28  West Bengal         3000.0          1404.983                  95   \n",
       "29    Telangana          800.0           127.274                  29   \n",
       "30  Ladakh (UT)          413.0            85.230                   0   \n",
       "31        Total        66784.0         18616.452                5108   \n",
       "\n",
       "    Connected Habitations  \n",
       "27                     83  \n",
       "28                     32  \n",
       "29                     18  \n",
       "30                      0  \n",
       "31                   1341  "
      ]
     },
     "execution_count": 87,
     "metadata": {},
     "output_type": "execute_result"
    }
   ],
   "source": [
    "#today's data\n",
    "today_data=dfs[0]\n",
    "today_data.tail()"
   ]
  },
  {
   "cell_type": "markdown",
   "metadata": {},
   "source": [
    "### Save today's data as csv"
   ]
  },
  {
   "cell_type": "code",
   "execution_count": 88,
   "metadata": {},
   "outputs": [
    {
     "data": {
      "text/plain": [
       "'Tuesday 26 January 2021'"
      ]
     },
     "execution_count": 88,
     "metadata": {},
     "output_type": "execute_result"
    }
   ],
   "source": [
    "today=pd.to_datetime(\"today\")\n",
    "today_date=today.strftime(\"%A %d %B %Y\")\n",
    "today_data.to_csv(today_date+\".csv\")\n",
    "today_date"
   ]
  },
  {
   "cell_type": "markdown",
   "metadata": {},
   "source": [
    "### Create Previous day Date "
   ]
  },
  {
   "cell_type": "code",
   "execution_count": 89,
   "metadata": {},
   "outputs": [
    {
     "data": {
      "text/plain": [
       "'Monday 25 January 2021'"
      ]
     },
     "execution_count": 89,
     "metadata": {},
     "output_type": "execute_result"
    }
   ],
   "source": [
    "previous_day=today-datetime.timedelta(days=1)\n",
    "previous_date=previous_day.strftime(\"%A %d %B %Y\")\n",
    "previous_date"
   ]
  },
  {
   "cell_type": "markdown",
   "metadata": {},
   "source": [
    "# Day 2"
   ]
  },
  {
   "cell_type": "markdown",
   "metadata": {},
   "source": [
    "### Open file the next day"
   ]
  },
  {
   "cell_type": "markdown",
   "metadata": {},
   "source": [
    "#### Find out Balance Length and daily requirements till March 2020"
   ]
  },
  {
   "cell_type": "code",
   "execution_count": 90,
   "metadata": {},
   "outputs": [
    {
     "data": {
      "text/html": [
       "<div>\n",
       "<style scoped>\n",
       "    .dataframe tbody tr th:only-of-type {\n",
       "        vertical-align: middle;\n",
       "    }\n",
       "\n",
       "    .dataframe tbody tr th {\n",
       "        vertical-align: top;\n",
       "    }\n",
       "\n",
       "    .dataframe thead th {\n",
       "        text-align: right;\n",
       "    }\n",
       "</style>\n",
       "<table border=\"1\" class=\"dataframe\">\n",
       "  <thead>\n",
       "    <tr style=\"text-align: right;\">\n",
       "      <th></th>\n",
       "      <th>Unnamed: 0</th>\n",
       "      <th>State</th>\n",
       "      <th>Target Length</th>\n",
       "      <th>Completed Length</th>\n",
       "      <th>Target Habitations</th>\n",
       "      <th>Connected Habitations</th>\n",
       "      <th>Today</th>\n",
       "      <th>yesterday</th>\n",
       "      <th>March</th>\n",
       "      <th>Balance Length</th>\n",
       "      <th>days</th>\n",
       "      <th>Days</th>\n",
       "      <th>Daily Requirements</th>\n",
       "    </tr>\n",
       "  </thead>\n",
       "  <tbody>\n",
       "    <tr>\n",
       "      <td>27</td>\n",
       "      <td>27</td>\n",
       "      <td>Uttarakhand</td>\n",
       "      <td>5425.0</td>\n",
       "      <td>1808.139</td>\n",
       "      <td>300</td>\n",
       "      <td>83</td>\n",
       "      <td>2021-01-26 23:50:46.203807</td>\n",
       "      <td>2021-01-25 23:50:46.203807</td>\n",
       "      <td>2021-03-31</td>\n",
       "      <td>3616.861</td>\n",
       "      <td>64 days 00:09:13.796193</td>\n",
       "      <td>64</td>\n",
       "      <td>56.513453</td>\n",
       "    </tr>\n",
       "    <tr>\n",
       "      <td>28</td>\n",
       "      <td>28</td>\n",
       "      <td>West Bengal</td>\n",
       "      <td>3000.0</td>\n",
       "      <td>1404.983</td>\n",
       "      <td>95</td>\n",
       "      <td>32</td>\n",
       "      <td>2021-01-26 23:50:46.203807</td>\n",
       "      <td>2021-01-25 23:50:46.203807</td>\n",
       "      <td>2021-03-31</td>\n",
       "      <td>1595.017</td>\n",
       "      <td>64 days 00:09:13.796193</td>\n",
       "      <td>64</td>\n",
       "      <td>24.922141</td>\n",
       "    </tr>\n",
       "    <tr>\n",
       "      <td>29</td>\n",
       "      <td>29</td>\n",
       "      <td>Telangana</td>\n",
       "      <td>800.0</td>\n",
       "      <td>126.274</td>\n",
       "      <td>29</td>\n",
       "      <td>18</td>\n",
       "      <td>2021-01-26 23:50:46.203807</td>\n",
       "      <td>2021-01-25 23:50:46.203807</td>\n",
       "      <td>2021-03-31</td>\n",
       "      <td>673.726</td>\n",
       "      <td>64 days 00:09:13.796193</td>\n",
       "      <td>64</td>\n",
       "      <td>10.526969</td>\n",
       "    </tr>\n",
       "    <tr>\n",
       "      <td>30</td>\n",
       "      <td>30</td>\n",
       "      <td>Ladakh (UT)</td>\n",
       "      <td>413.0</td>\n",
       "      <td>85.230</td>\n",
       "      <td>0</td>\n",
       "      <td>0</td>\n",
       "      <td>2021-01-26 23:50:46.203807</td>\n",
       "      <td>2021-01-25 23:50:46.203807</td>\n",
       "      <td>2021-03-31</td>\n",
       "      <td>327.770</td>\n",
       "      <td>64 days 00:09:13.796193</td>\n",
       "      <td>64</td>\n",
       "      <td>5.121406</td>\n",
       "    </tr>\n",
       "    <tr>\n",
       "      <td>31</td>\n",
       "      <td>31</td>\n",
       "      <td>Total</td>\n",
       "      <td>66784.0</td>\n",
       "      <td>18573.029</td>\n",
       "      <td>5108</td>\n",
       "      <td>1340</td>\n",
       "      <td>2021-01-26 23:50:46.203807</td>\n",
       "      <td>2021-01-25 23:50:46.203807</td>\n",
       "      <td>2021-03-31</td>\n",
       "      <td>48210.971</td>\n",
       "      <td>64 days 00:09:13.796193</td>\n",
       "      <td>64</td>\n",
       "      <td>753.296422</td>\n",
       "    </tr>\n",
       "  </tbody>\n",
       "</table>\n",
       "</div>"
      ],
      "text/plain": [
       "    Unnamed: 0        State  Target Length  Completed Length  \\\n",
       "27          27  Uttarakhand         5425.0          1808.139   \n",
       "28          28  West Bengal         3000.0          1404.983   \n",
       "29          29    Telangana          800.0           126.274   \n",
       "30          30  Ladakh (UT)          413.0            85.230   \n",
       "31          31        Total        66784.0         18573.029   \n",
       "\n",
       "    Target Habitations  Connected Habitations                      Today  \\\n",
       "27                 300                     83 2021-01-26 23:50:46.203807   \n",
       "28                  95                     32 2021-01-26 23:50:46.203807   \n",
       "29                  29                     18 2021-01-26 23:50:46.203807   \n",
       "30                   0                      0 2021-01-26 23:50:46.203807   \n",
       "31                5108                   1340 2021-01-26 23:50:46.203807   \n",
       "\n",
       "                    yesterday      March  Balance Length  \\\n",
       "27 2021-01-25 23:50:46.203807 2021-03-31        3616.861   \n",
       "28 2021-01-25 23:50:46.203807 2021-03-31        1595.017   \n",
       "29 2021-01-25 23:50:46.203807 2021-03-31         673.726   \n",
       "30 2021-01-25 23:50:46.203807 2021-03-31         327.770   \n",
       "31 2021-01-25 23:50:46.203807 2021-03-31       48210.971   \n",
       "\n",
       "                      days  Days  Daily Requirements  \n",
       "27 64 days 00:09:13.796193    64           56.513453  \n",
       "28 64 days 00:09:13.796193    64           24.922141  \n",
       "29 64 days 00:09:13.796193    64           10.526969  \n",
       "30 64 days 00:09:13.796193    64            5.121406  \n",
       "31 64 days 00:09:13.796193    64          753.296422  "
      ]
     },
     "execution_count": 90,
     "metadata": {},
     "output_type": "execute_result"
    }
   ],
   "source": [
    "progress=pd.read_csv(previous_date+\".csv\")\n",
    "progress[\"Today\"]=pd.to_datetime(\"today\")\n",
    "progress[\"yesterday\"]=progress[\"Today\"]-datetime.timedelta(days=1)\n",
    "progress[\"March\"]=pd.to_datetime(\"2021-3-31\")\n",
    "progress[\"Balance Length\"]=progress[\"Target Length\"]-progress[\"Completed Length\"]\n",
    "progress[\"days\"]=progress[\"March\"]-progress[\"yesterday\"]\n",
    "progress[\"Days\"]=progress[\"days\"].dt.days\n",
    "progress[\"Daily Requirements\"]=progress[\"Balance Length\"]/progress[\"Days\"]\n",
    "progress.tail()\n"
   ]
  },
  {
   "cell_type": "markdown",
   "metadata": {},
   "source": [
    "### Find out today's achievement by merging both day's data"
   ]
  },
  {
   "cell_type": "code",
   "execution_count": 91,
   "metadata": {},
   "outputs": [
    {
     "name": "stderr",
     "output_type": "stream",
     "text": [
      "C:\\Users\\lenovo\\Anaconda3\\lib\\site-packages\\ipykernel_launcher.py:9: SettingWithCopyWarning: \n",
      "A value is trying to be set on a copy of a slice from a DataFrame.\n",
      "Try using .loc[row_indexer,col_indexer] = value instead\n",
      "\n",
      "See the caveats in the documentation: http://pandas.pydata.org/pandas-docs/stable/user_guide/indexing.html#returning-a-view-versus-a-copy\n",
      "  if __name__ == '__main__':\n",
      "C:\\Users\\lenovo\\Anaconda3\\lib\\site-packages\\ipykernel_launcher.py:10: SettingWithCopyWarning: \n",
      "A value is trying to be set on a copy of a slice from a DataFrame.\n",
      "Try using .loc[row_indexer,col_indexer] = value instead\n",
      "\n",
      "See the caveats in the documentation: http://pandas.pydata.org/pandas-docs/stable/user_guide/indexing.html#returning-a-view-versus-a-copy\n",
      "  # Remove the CWD from sys.path while we load stuff.\n"
     ]
    },
    {
     "data": {
      "text/html": [
       "<div>\n",
       "<style scoped>\n",
       "    .dataframe tbody tr th:only-of-type {\n",
       "        vertical-align: middle;\n",
       "    }\n",
       "\n",
       "    .dataframe tbody tr th {\n",
       "        vertical-align: top;\n",
       "    }\n",
       "\n",
       "    .dataframe thead th {\n",
       "        text-align: right;\n",
       "    }\n",
       "</style>\n",
       "<table border=\"1\" class=\"dataframe\">\n",
       "  <thead>\n",
       "    <tr style=\"text-align: right;\">\n",
       "      <th></th>\n",
       "      <th>State</th>\n",
       "      <th>Achievement as on 2021-01-26</th>\n",
       "      <th>Daily Requirements</th>\n",
       "      <th>Target Length_x</th>\n",
       "      <th>Completed Length_x</th>\n",
       "    </tr>\n",
       "  </thead>\n",
       "  <tbody>\n",
       "    <tr>\n",
       "      <td>0</td>\n",
       "      <td>Andaman And Nicobar Islands (UT)</td>\n",
       "      <td>-0.00</td>\n",
       "      <td>0.93</td>\n",
       "      <td>85.0</td>\n",
       "      <td>25.569</td>\n",
       "    </tr>\n",
       "    <tr>\n",
       "      <td>1</td>\n",
       "      <td>Andhra Pradesh</td>\n",
       "      <td>0.00</td>\n",
       "      <td>22.94</td>\n",
       "      <td>1797.0</td>\n",
       "      <td>328.916</td>\n",
       "    </tr>\n",
       "    <tr>\n",
       "      <td>2</td>\n",
       "      <td>Arunachal Pradesh</td>\n",
       "      <td>19.27</td>\n",
       "      <td>63.54</td>\n",
       "      <td>4850.0</td>\n",
       "      <td>802.410</td>\n",
       "    </tr>\n",
       "    <tr>\n",
       "      <td>3</td>\n",
       "      <td>Assam</td>\n",
       "      <td>2.49</td>\n",
       "      <td>15.83</td>\n",
       "      <td>2130.0</td>\n",
       "      <td>1119.621</td>\n",
       "    </tr>\n",
       "    <tr>\n",
       "      <td>4</td>\n",
       "      <td>Bihar</td>\n",
       "      <td>0.00</td>\n",
       "      <td>48.29</td>\n",
       "      <td>4490.0</td>\n",
       "      <td>1399.453</td>\n",
       "    </tr>\n",
       "  </tbody>\n",
       "</table>\n",
       "</div>"
      ],
      "text/plain": [
       "                              State  Achievement as on 2021-01-26  \\\n",
       "0  Andaman And Nicobar Islands (UT)                         -0.00   \n",
       "1                    Andhra Pradesh                          0.00   \n",
       "2                 Arunachal Pradesh                         19.27   \n",
       "3                             Assam                          2.49   \n",
       "4                             Bihar                          0.00   \n",
       "\n",
       "   Daily Requirements  Target Length_x  Completed Length_x  \n",
       "0                0.93             85.0              25.569  \n",
       "1               22.94           1797.0             328.916  \n",
       "2               63.54           4850.0             802.410  \n",
       "3               15.83           2130.0            1119.621  \n",
       "4               48.29           4490.0            1399.453  "
      ]
     },
     "execution_count": 91,
     "metadata": {},
     "output_type": "execute_result"
    }
   ],
   "source": [
    "todayachieve=pd.merge(today_data,progress,on=\"State\")\n",
    "todayachieve\n",
    "\n",
    "today1=str(today.date())\n",
    "todayachieve[\"Achievement as on {}\".format(today1)]=todayachieve[\"Completed Length_x\"]-todayachieve[\"Completed Length_y\"]\n",
    "ta1=(todayachieve[[\"State\",\"Achievement as on {}\".format(today1),\"Daily Requirements\",\"Target Length_x\",\"Completed Length_x\"]])\n",
    "\n",
    "#Round off figures upto 2 decimals\n",
    "ta1[\"Achievement as on {}\".format(today1)]=ta1[\"Achievement as on {}\".format(today1)].round(2)\n",
    "ta1[\"Daily Requirements\"]=ta1[\"Daily Requirements\"].round(2)\n",
    "\n",
    "\n",
    "ta1.head()"
   ]
  },
  {
   "cell_type": "markdown",
   "metadata": {},
   "source": [
    "### Renaming column names as required "
   ]
  },
  {
   "cell_type": "code",
   "execution_count": 92,
   "metadata": {},
   "outputs": [
    {
     "data": {
      "text/html": [
       "<div>\n",
       "<style scoped>\n",
       "    .dataframe tbody tr th:only-of-type {\n",
       "        vertical-align: middle;\n",
       "    }\n",
       "\n",
       "    .dataframe tbody tr th {\n",
       "        vertical-align: top;\n",
       "    }\n",
       "\n",
       "    .dataframe thead th {\n",
       "        text-align: right;\n",
       "    }\n",
       "</style>\n",
       "<table border=\"1\" class=\"dataframe\">\n",
       "  <thead>\n",
       "    <tr style=\"text-align: right;\">\n",
       "      <th></th>\n",
       "      <th>State</th>\n",
       "      <th>Achievement as on 2021-01-26</th>\n",
       "      <th>Daily Requirements</th>\n",
       "      <th>Target Length</th>\n",
       "      <th>Completed Length</th>\n",
       "    </tr>\n",
       "  </thead>\n",
       "  <tbody>\n",
       "    <tr>\n",
       "      <td>0</td>\n",
       "      <td>Andaman And Nicobar Islands (UT)</td>\n",
       "      <td>-0.00</td>\n",
       "      <td>0.93</td>\n",
       "      <td>85.0</td>\n",
       "      <td>25.569</td>\n",
       "    </tr>\n",
       "    <tr>\n",
       "      <td>1</td>\n",
       "      <td>Andhra Pradesh</td>\n",
       "      <td>0.00</td>\n",
       "      <td>22.94</td>\n",
       "      <td>1797.0</td>\n",
       "      <td>328.916</td>\n",
       "    </tr>\n",
       "    <tr>\n",
       "      <td>2</td>\n",
       "      <td>Arunachal Pradesh</td>\n",
       "      <td>19.27</td>\n",
       "      <td>63.54</td>\n",
       "      <td>4850.0</td>\n",
       "      <td>802.410</td>\n",
       "    </tr>\n",
       "    <tr>\n",
       "      <td>3</td>\n",
       "      <td>Assam</td>\n",
       "      <td>2.49</td>\n",
       "      <td>15.83</td>\n",
       "      <td>2130.0</td>\n",
       "      <td>1119.621</td>\n",
       "    </tr>\n",
       "    <tr>\n",
       "      <td>4</td>\n",
       "      <td>Bihar</td>\n",
       "      <td>0.00</td>\n",
       "      <td>48.29</td>\n",
       "      <td>4490.0</td>\n",
       "      <td>1399.453</td>\n",
       "    </tr>\n",
       "  </tbody>\n",
       "</table>\n",
       "</div>"
      ],
      "text/plain": [
       "                              State  Achievement as on 2021-01-26  \\\n",
       "0  Andaman And Nicobar Islands (UT)                         -0.00   \n",
       "1                    Andhra Pradesh                          0.00   \n",
       "2                 Arunachal Pradesh                         19.27   \n",
       "3                             Assam                          2.49   \n",
       "4                             Bihar                          0.00   \n",
       "\n",
       "   Daily Requirements  Target Length  Completed Length  \n",
       "0                0.93           85.0            25.569  \n",
       "1               22.94         1797.0           328.916  \n",
       "2               63.54         4850.0           802.410  \n",
       "3               15.83         2130.0          1119.621  \n",
       "4               48.29         4490.0          1399.453  "
      ]
     },
     "execution_count": 92,
     "metadata": {},
     "output_type": "execute_result"
    }
   ],
   "source": [
    "ta2=ta1.rename(columns={\"Completed Length_x\":\"Completed Length\",\"Target Length_x\":\"Target Length\"})\n",
    "ta2.to_csv(\"Daily Achievement {0}.csv\".format(today1))\n",
    "ta2.head()"
   ]
  },
  {
   "cell_type": "markdown",
   "metadata": {},
   "source": [
    "# Objective achieved !!!!"
   ]
  },
  {
   "cell_type": "markdown",
   "metadata": {},
   "source": [
    "### Next objective - Data visualization through geopandas "
   ]
  },
  {
   "cell_type": "markdown",
   "metadata": {},
   "source": [
    "### Import Shapefile"
   ]
  },
  {
   "cell_type": "code",
   "execution_count": 93,
   "metadata": {},
   "outputs": [
    {
     "data": {
      "image/png": "[encoded data removed]",
      "text/plain": [
       "<Figure size 576x576 with 1 Axes>"
      ]
     },
     "metadata": {
      "needs_background": "light"
     },
     "output_type": "display_data"
    },
    {
     "data": {
      "text/html": [
       "<div>\n",
       "<style scoped>\n",
       "    .dataframe tbody tr th:only-of-type {\n",
       "        vertical-align: middle;\n",
       "    }\n",
       "\n",
       "    .dataframe tbody tr th {\n",
       "        vertical-align: top;\n",
       "    }\n",
       "\n",
       "    .dataframe thead th {\n",
       "        text-align: right;\n",
       "    }\n",
       "</style>\n",
       "<table border=\"1\" class=\"dataframe\">\n",
       "  <thead>\n",
       "    <tr style=\"text-align: right;\">\n",
       "      <th></th>\n",
       "      <th>ST_NAME</th>\n",
       "      <th>geometry</th>\n",
       "    </tr>\n",
       "  </thead>\n",
       "  <tbody>\n",
       "    <tr>\n",
       "      <td>0</td>\n",
       "      <td>ANDAMAN AND NICOBAR ISLANDS</td>\n",
       "      <td>MULTIPOLYGON (((92.89889 12.91583, 92.89917 12...</td>\n",
       "    </tr>\n",
       "    <tr>\n",
       "      <td>1</td>\n",
       "      <td>Andhra Pradesh</td>\n",
       "      <td>POLYGON ((83.94319 18.21431, 83.94236 18.21431...</td>\n",
       "    </tr>\n",
       "    <tr>\n",
       "      <td>2</td>\n",
       "      <td>Arunachal Pradesh</td>\n",
       "      <td>POLYGON ((94.86086 27.73948, 94.86603 27.73624...</td>\n",
       "    </tr>\n",
       "    <tr>\n",
       "      <td>3</td>\n",
       "      <td>Assam</td>\n",
       "      <td>POLYGON ((95.59917 27.22961, 95.59009 27.22952...</td>\n",
       "    </tr>\n",
       "    <tr>\n",
       "      <td>4</td>\n",
       "      <td>Bihar</td>\n",
       "      <td>POLYGON ((87.95561 25.53805, 87.95239 25.53646...</td>\n",
       "    </tr>\n",
       "  </tbody>\n",
       "</table>\n",
       "</div>"
      ],
      "text/plain": [
       "                       ST_NAME  \\\n",
       "0  ANDAMAN AND NICOBAR ISLANDS   \n",
       "1               Andhra Pradesh   \n",
       "2            Arunachal Pradesh   \n",
       "3                        Assam   \n",
       "4                        Bihar   \n",
       "\n",
       "                                            geometry  \n",
       "0  MULTIPOLYGON (((92.89889 12.91583, 92.89917 12...  \n",
       "1  POLYGON ((83.94319 18.21431, 83.94236 18.21431...  \n",
       "2  POLYGON ((94.86086 27.73948, 94.86603 27.73624...  \n",
       "3  POLYGON ((95.59917 27.22961, 95.59009 27.22952...  \n",
       "4  POLYGON ((87.95561 25.53805, 87.95239 25.53646...  "
      ]
     },
     "execution_count": 93,
     "metadata": {},
     "output_type": "execute_result"
    }
   ],
   "source": [
    "import pandas as pd\n",
    "import geopandas as gpd\n",
    "import matplotlib.pyplot as plt\n",
    "\n",
    "india=gpd.read_file(r\"C:\\Users\\lenovo\\Downloads\\Shapefile\\INDIA.shp\")\n",
    "india.plot()\n",
    "plt.show()\n",
    "india\n",
    "india.replace('Orissa','Odisha',inplace=True)\n",
    "india.replace('Tamil Nadu','Tamilnadu',inplace=True)\n",
    "india.replace('Telngana','Telangana',inplace=True)\n",
    "india.head()"
   ]
  },
  {
   "cell_type": "markdown",
   "metadata": {},
   "source": [
    "### Find out % Length Achievement against targets and merge the csv data with shapefile"
   ]
  },
  {
   "cell_type": "code",
   "execution_count": 94,
   "metadata": {},
   "outputs": [
    {
     "data": {
      "text/html": [
       "<div>\n",
       "<style scoped>\n",
       "    .dataframe tbody tr th:only-of-type {\n",
       "        vertical-align: middle;\n",
       "    }\n",
       "\n",
       "    .dataframe tbody tr th {\n",
       "        vertical-align: top;\n",
       "    }\n",
       "\n",
       "    .dataframe thead th {\n",
       "        text-align: right;\n",
       "    }\n",
       "</style>\n",
       "<table border=\"1\" class=\"dataframe\">\n",
       "  <thead>\n",
       "    <tr style=\"text-align: right;\">\n",
       "      <th></th>\n",
       "      <th>ST_NAME</th>\n",
       "      <th>geometry</th>\n",
       "      <th>Unnamed: 0</th>\n",
       "      <th>Achievement as on 2021-01-26</th>\n",
       "      <th>Daily Requirements</th>\n",
       "      <th>Target Length</th>\n",
       "      <th>Completed Length</th>\n",
       "      <th>percentage</th>\n",
       "    </tr>\n",
       "  </thead>\n",
       "  <tbody>\n",
       "    <tr>\n",
       "      <td>0</td>\n",
       "      <td>Andhra Pradesh</td>\n",
       "      <td>POLYGON ((83.94319 18.21431, 83.94236 18.21431...</td>\n",
       "      <td>1</td>\n",
       "      <td>0.00</td>\n",
       "      <td>22.94</td>\n",
       "      <td>1797.0</td>\n",
       "      <td>328.916</td>\n",
       "      <td>18.303617</td>\n",
       "    </tr>\n",
       "    <tr>\n",
       "      <td>1</td>\n",
       "      <td>Arunachal Pradesh</td>\n",
       "      <td>POLYGON ((94.86086 27.73948, 94.86603 27.73624...</td>\n",
       "      <td>2</td>\n",
       "      <td>19.27</td>\n",
       "      <td>63.54</td>\n",
       "      <td>4850.0</td>\n",
       "      <td>802.410</td>\n",
       "      <td>16.544536</td>\n",
       "    </tr>\n",
       "    <tr>\n",
       "      <td>2</td>\n",
       "      <td>Assam</td>\n",
       "      <td>POLYGON ((95.59917 27.22961, 95.59009 27.22952...</td>\n",
       "      <td>3</td>\n",
       "      <td>2.49</td>\n",
       "      <td>15.83</td>\n",
       "      <td>2130.0</td>\n",
       "      <td>1119.621</td>\n",
       "      <td>52.564366</td>\n",
       "    </tr>\n",
       "    <tr>\n",
       "      <td>3</td>\n",
       "      <td>Bihar</td>\n",
       "      <td>POLYGON ((87.95561 25.53805, 87.95239 25.53646...</td>\n",
       "      <td>4</td>\n",
       "      <td>0.00</td>\n",
       "      <td>48.29</td>\n",
       "      <td>4490.0</td>\n",
       "      <td>1399.453</td>\n",
       "      <td>31.168218</td>\n",
       "    </tr>\n",
       "    <tr>\n",
       "      <td>4</td>\n",
       "      <td>Chhattisgarh</td>\n",
       "      <td>POLYGON ((83.79799 22.28996, 83.79752 22.28949...</td>\n",
       "      <td>5</td>\n",
       "      <td>3.51</td>\n",
       "      <td>35.48</td>\n",
       "      <td>4000.0</td>\n",
       "      <td>1732.578</td>\n",
       "      <td>43.314450</td>\n",
       "    </tr>\n",
       "  </tbody>\n",
       "</table>\n",
       "</div>"
      ],
      "text/plain": [
       "             ST_NAME                                           geometry  \\\n",
       "0     Andhra Pradesh  POLYGON ((83.94319 18.21431, 83.94236 18.21431...   \n",
       "1  Arunachal Pradesh  POLYGON ((94.86086 27.73948, 94.86603 27.73624...   \n",
       "2              Assam  POLYGON ((95.59917 27.22961, 95.59009 27.22952...   \n",
       "3              Bihar  POLYGON ((87.95561 25.53805, 87.95239 25.53646...   \n",
       "4       Chhattisgarh  POLYGON ((83.79799 22.28996, 83.79752 22.28949...   \n",
       "\n",
       "   Unnamed: 0  Achievement as on 2021-01-26  Daily Requirements  \\\n",
       "0           1                          0.00               22.94   \n",
       "1           2                         19.27               63.54   \n",
       "2           3                          2.49               15.83   \n",
       "3           4                          0.00               48.29   \n",
       "4           5                          3.51               35.48   \n",
       "\n",
       "   Target Length  Completed Length  percentage  \n",
       "0         1797.0           328.916   18.303617  \n",
       "1         4850.0           802.410   16.544536  \n",
       "2         2130.0          1119.621   52.564366  \n",
       "3         4490.0          1399.453   31.168218  \n",
       "4         4000.0          1732.578   43.314450  "
      ]
     },
     "execution_count": 94,
     "metadata": {},
     "output_type": "execute_result"
    }
   ],
   "source": [
    "ta3=pd.read_csv(r\"C:\\Users\\lenovo\\Daily Achievement {0}.csv\".format(today1))\n",
    "ta3[\"percentage\"]=(ta3[\"Completed Length\"]/ta3[\"Target Length\"])*100\n",
    "ta4=ta3.rename(columns={\"State\":\"ST_NAME\"})\n",
    "ta5=pd.merge(india,ta4,on=\"ST_NAME\")\n",
    "ta5.head()"
   ]
  },
  {
   "cell_type": "code",
   "execution_count": 95,
   "metadata": {},
   "outputs": [
    {
     "data": {
      "image/png": "[encoded data removed]",
      "text/plain": [
       "<Figure size 576x576 with 1 Axes>"
      ]
     },
     "metadata": {
      "needs_background": "light"
     },
     "output_type": "display_data"
    },
    {
     "data": {
      "text/html": [
       "<div>\n",
       "<style scoped>\n",
       "    .dataframe tbody tr th:only-of-type {\n",
       "        vertical-align: middle;\n",
       "    }\n",
       "\n",
       "    .dataframe tbody tr th {\n",
       "        vertical-align: top;\n",
       "    }\n",
       "\n",
       "    .dataframe thead th {\n",
       "        text-align: right;\n",
       "    }\n",
       "</style>\n",
       "<table border=\"1\" class=\"dataframe\">\n",
       "  <thead>\n",
       "    <tr style=\"text-align: right;\">\n",
       "      <th></th>\n",
       "      <th>ST_NAME</th>\n",
       "      <th>geometry</th>\n",
       "      <th>Unnamed: 0</th>\n",
       "      <th>Achievement as on 2021-01-26</th>\n",
       "      <th>Daily Requirements</th>\n",
       "      <th>Target Length</th>\n",
       "      <th>Completed Length</th>\n",
       "      <th>percentage</th>\n",
       "    </tr>\n",
       "  </thead>\n",
       "  <tbody>\n",
       "    <tr>\n",
       "      <td>0</td>\n",
       "      <td>Andhra Pradesh</td>\n",
       "      <td>POLYGON ((83.94319 18.21431, 83.94236 18.21431...</td>\n",
       "      <td>1</td>\n",
       "      <td>0.00</td>\n",
       "      <td>22.94</td>\n",
       "      <td>1797.0</td>\n",
       "      <td>328.916</td>\n",
       "      <td>18.303617</td>\n",
       "    </tr>\n",
       "    <tr>\n",
       "      <td>1</td>\n",
       "      <td>Arunachal Pradesh</td>\n",
       "      <td>POLYGON ((94.86086 27.73948, 94.86603 27.73624...</td>\n",
       "      <td>2</td>\n",
       "      <td>19.27</td>\n",
       "      <td>63.54</td>\n",
       "      <td>4850.0</td>\n",
       "      <td>802.410</td>\n",
       "      <td>16.544536</td>\n",
       "    </tr>\n",
       "    <tr>\n",
       "      <td>2</td>\n",
       "      <td>Assam</td>\n",
       "      <td>POLYGON ((95.59917 27.22961, 95.59009 27.22952...</td>\n",
       "      <td>3</td>\n",
       "      <td>2.49</td>\n",
       "      <td>15.83</td>\n",
       "      <td>2130.0</td>\n",
       "      <td>1119.621</td>\n",
       "      <td>52.564366</td>\n",
       "    </tr>\n",
       "    <tr>\n",
       "      <td>3</td>\n",
       "      <td>Bihar</td>\n",
       "      <td>POLYGON ((87.95561 25.53805, 87.95239 25.53646...</td>\n",
       "      <td>4</td>\n",
       "      <td>0.00</td>\n",
       "      <td>48.29</td>\n",
       "      <td>4490.0</td>\n",
       "      <td>1399.453</td>\n",
       "      <td>31.168218</td>\n",
       "    </tr>\n",
       "    <tr>\n",
       "      <td>4</td>\n",
       "      <td>Chhattisgarh</td>\n",
       "      <td>POLYGON ((83.79799 22.28996, 83.79752 22.28949...</td>\n",
       "      <td>5</td>\n",
       "      <td>3.51</td>\n",
       "      <td>35.48</td>\n",
       "      <td>4000.0</td>\n",
       "      <td>1732.578</td>\n",
       "      <td>43.314450</td>\n",
       "    </tr>\n",
       "  </tbody>\n",
       "</table>\n",
       "</div>"
      ],
      "text/plain": [
       "             ST_NAME                                           geometry  \\\n",
       "0     Andhra Pradesh  POLYGON ((83.94319 18.21431, 83.94236 18.21431...   \n",
       "1  Arunachal Pradesh  POLYGON ((94.86086 27.73948, 94.86603 27.73624...   \n",
       "2              Assam  POLYGON ((95.59917 27.22961, 95.59009 27.22952...   \n",
       "3              Bihar  POLYGON ((87.95561 25.53805, 87.95239 25.53646...   \n",
       "4       Chhattisgarh  POLYGON ((83.79799 22.28996, 83.79752 22.28949...   \n",
       "\n",
       "   Unnamed: 0  Achievement as on 2021-01-26  Daily Requirements  \\\n",
       "0           1                          0.00               22.94   \n",
       "1           2                         19.27               63.54   \n",
       "2           3                          2.49               15.83   \n",
       "3           4                          0.00               48.29   \n",
       "4           5                          3.51               35.48   \n",
       "\n",
       "   Target Length  Completed Length  percentage  \n",
       "0         1797.0           328.916   18.303617  \n",
       "1         4850.0           802.410   16.544536  \n",
       "2         2130.0          1119.621   52.564366  \n",
       "3         4490.0          1399.453   31.168218  \n",
       "4         4000.0          1732.578   43.314450  "
      ]
     },
     "execution_count": 95,
     "metadata": {},
     "output_type": "execute_result"
    }
   ],
   "source": [
    "ta5.plot()\n",
    "plt.show()\n",
    "ta5.head()"
   ]
  },
  {
   "cell_type": "markdown",
   "metadata": {},
   "source": [
    "### Data visualization through map"
   ]
  },
  {
   "cell_type": "code",
   "execution_count": 97,
   "metadata": {},
   "outputs": [
    {
     "data": {
      "image/png": "[encoded data removed]",
      "text/plain": [
       "<Figure size 1440x720 with 2 Axes>"
      ]
     },
     "metadata": {
      "needs_background": "light"
     },
     "output_type": "display_data"
    }
   ],
   "source": [
    "ax1=ta5.plot(column=\"percentage\",\n",
    "               cmap=\"RdYlGn\",\n",
    "                legend=\"True\",\n",
    "                 legend_kwds={'label':\"% completion w.r.t Target Length\", 'orientation':'vertical'},\n",
    "               figsize=(20,10))"
   ]
  },
  {
   "cell_type": "markdown",
   "metadata": {},
   "source": [
    "### Data vizualization through bar graph"
   ]
  },
  {
   "cell_type": "code",
   "execution_count": 98,
   "metadata": {},
   "outputs": [
    {
     "name": "stderr",
     "output_type": "stream",
     "text": [
      "C:\\Users\\lenovo\\Anaconda3\\lib\\site-packages\\ipykernel_launcher.py:4: SettingWithCopyWarning: \n",
      "A value is trying to be set on a copy of a slice from a DataFrame.\n",
      "Try using .loc[row_indexer,col_indexer] = value instead\n",
      "\n",
      "See the caveats in the documentation: http://pandas.pydata.org/pandas-docs/stable/user_guide/indexing.html#returning-a-view-versus-a-copy\n",
      "  after removing the cwd from sys.path.\n",
      "C:\\Users\\lenovo\\Anaconda3\\lib\\site-packages\\ipykernel_launcher.py:18: MatplotlibDeprecationWarning: Adding an axes using the same arguments as a previous axes currently reuses the earlier instance.  In a future version, a new instance will always be created and returned.  Meanwhile, this warning can be suppressed, and the future behavior ensured, by passing a unique label to each axes instance.\n"
     ]
    },
    {
     "data": {
      "text/html": [
       "<div>\n",
       "<style scoped>\n",
       "    .dataframe tbody tr th:only-of-type {\n",
       "        vertical-align: middle;\n",
       "    }\n",
       "\n",
       "    .dataframe tbody tr th {\n",
       "        vertical-align: top;\n",
       "    }\n",
       "\n",
       "    .dataframe thead th {\n",
       "        text-align: right;\n",
       "    }\n",
       "</style>\n",
       "<table border=\"1\" class=\"dataframe\">\n",
       "  <thead>\n",
       "    <tr style=\"text-align: right;\">\n",
       "      <th></th>\n",
       "      <th>State</th>\n",
       "      <th>Achievement as on 2021-01-26</th>\n",
       "      <th>Daily Requirements</th>\n",
       "      <th>Target Length</th>\n",
       "      <th>Completed Length</th>\n",
       "      <th>%Completed</th>\n",
       "      <th>Final</th>\n",
       "    </tr>\n",
       "  </thead>\n",
       "  <tbody>\n",
       "    <tr>\n",
       "      <td>21</td>\n",
       "      <td>Punjab</td>\n",
       "      <td>0.0</td>\n",
       "      <td>7.80</td>\n",
       "      <td>500.0</td>\n",
       "      <td>1.09</td>\n",
       "      <td>0.218000</td>\n",
       "      <td>100</td>\n",
       "    </tr>\n",
       "    <tr>\n",
       "      <td>7</td>\n",
       "      <td>Gujarat</td>\n",
       "      <td>0.0</td>\n",
       "      <td>10.91</td>\n",
       "      <td>700.0</td>\n",
       "      <td>2.01</td>\n",
       "      <td>0.287143</td>\n",
       "      <td>100</td>\n",
       "    </tr>\n",
       "    <tr>\n",
       "      <td>8</td>\n",
       "      <td>Haryana</td>\n",
       "      <td>0.0</td>\n",
       "      <td>7.71</td>\n",
       "      <td>500.0</td>\n",
       "      <td>6.50</td>\n",
       "      <td>1.300000</td>\n",
       "      <td>100</td>\n",
       "    </tr>\n",
       "    <tr>\n",
       "      <td>19</td>\n",
       "      <td>Nagaland</td>\n",
       "      <td>0.0</td>\n",
       "      <td>6.81</td>\n",
       "      <td>450.0</td>\n",
       "      <td>14.20</td>\n",
       "      <td>3.155556</td>\n",
       "      <td>100</td>\n",
       "    </tr>\n",
       "    <tr>\n",
       "      <td>15</td>\n",
       "      <td>Maharashtra</td>\n",
       "      <td>0.0</td>\n",
       "      <td>12.94</td>\n",
       "      <td>850.0</td>\n",
       "      <td>21.98</td>\n",
       "      <td>2.585882</td>\n",
       "      <td>100</td>\n",
       "    </tr>\n",
       "  </tbody>\n",
       "</table>\n",
       "</div>"
      ],
      "text/plain": [
       "          State  Achievement as on 2021-01-26  Daily Requirements  \\\n",
       "21       Punjab                           0.0                7.80   \n",
       "7       Gujarat                           0.0               10.91   \n",
       "8       Haryana                           0.0                7.71   \n",
       "19     Nagaland                           0.0                6.81   \n",
       "15  Maharashtra                           0.0               12.94   \n",
       "\n",
       "    Target Length  Completed Length  %Completed  Final  \n",
       "21          500.0              1.09    0.218000    100  \n",
       "7           700.0              2.01    0.287143    100  \n",
       "8           500.0              6.50    1.300000    100  \n",
       "19          450.0             14.20    3.155556    100  \n",
       "15          850.0             21.98    2.585882    100  "
      ]
     },
     "execution_count": 98,
     "metadata": {},
     "output_type": "execute_result"
    },
    {
     "data": {
      "image/png": "[encoded data removed]",
      "text/plain": [
       "<Figure size 576x576 with 1 Axes>"
      ]
     },
     "metadata": {
      "needs_background": "light"
     },
     "output_type": "display_data"
    }
   ],
   "source": [
    "import numpy as np\n",
    "ta2.head()\n",
    "ta5=ta2.loc[(ta2[\"Daily Requirements\"]<100)&(ta2[\"Target Length\"]>0)]\n",
    "ta5[\"%Completed\"]=(ta5[\"Completed Length\"]/ta5[\"Target Length\"])*100\n",
    "\n",
    "ta6=ta5.sort_values(by=[\"Completed Length\"],ascending=True)\n",
    "default_value=100\n",
    "ta6[\"Final\"]=default_value\n",
    "\n",
    "ta6.head()\n",
    "\n",
    "ach1=ta6[\"Completed Length\"]\n",
    "req1=ta6[\"Target Length\"]\n",
    "states=ta6[\"State\"]\n",
    "\n",
    "plt.barh(states,req1,color=[\"orange\"])\n",
    "plt.barh(states,ach1,color=[\"green\"])\n",
    "ax=plt.axes()\n",
    "plt.grid()\n",
    "#ax.invert_yaxis()\n",
    "plt.xlabel(\"Length (km)\")\n",
    "plt.ylabel(\"States\")\n",
    "\n",
    "#plt.legend()\n",
    "plt.rcParams[\"figure.figsize\"]=(8,8)\n",
    "ta6.head()"
   ]
  },
  {
   "cell_type": "code",
   "execution_count": null,
   "metadata": {},
   "outputs": [],
   "source": []
  }
 ],
 "metadata": {
  "kernelspec": {
   "display_name": "Python 3",
   "language": "python",
   "name": "python3"
  },
  "language_info": {
   "codemirror_mode": {
    "name": "ipython",
    "version": 3
   },
   "file_extension": ".py",
   "mimetype": "text/x-python",
   "name": "python",
   "nbconvert_exporter": "python",
   "pygments_lexer": "ipython3",
   "version": "3.7.4"
  }
 },
 "nbformat": 4,
 "nbformat_minor": 2
}
